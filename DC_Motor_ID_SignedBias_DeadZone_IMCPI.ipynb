# basic setup
import warnings; warnings.filterwarnings('ignore')

import numpy as np
import pandas as pd
import matplotlib.pyplot as plt
from scipy import stats
from scipy.optimize import curve_fit
from scipy.signal import savgol_filter, lsim, TransferFunction

# paths
CSV_PATH = '/content/drive/MyDrive/Thesis/run_minimal.csv'
OUT_DIR  = '/content/drive/MyDrive/Thesis'


# load csv
df = pd.read_csv(CSV_PATH)
df['time']    = pd.to_numeric(df['time'],    errors='coerce')
df['voltage'] = pd.to_numeric(df['voltage'], errors='coerce')
df['rpm']     = pd.to_numeric(df['rpm'],     errors='coerce')

# sampling
t_vals = df['time'].values
Ts = float(np.median(np.diff(t_vals))) if len(df) > 1 else 0.01
Ts = max(Ts, 1e-3)

# dead-zone (before plant)
VDB_POS, VDB_NEG, SOFT_ALPHA = 4.5, 4.5, 0.00

def deadzone_map(u):
    u = np.asarray(u, dtype=float)
    vdb = np.where(u >= 0.0, VDB_POS, VDB_NEG)
    mag = np.abs(u)
    eff_mag = np.where(mag <= vdb, SOFT_ALPHA * mag, (mag - vdb) + SOFT_ALPHA * vdb)
    return np.sign(u) * eff_mag

df['u_eff'] = deadzone_map(df['voltage'].values)

# smooth rpm (for ID)
y_raw = df['rpm'].values
base_win = int(round(0.5 / Ts));  base_win += (base_win % 2 == 0)
base_win = max(5, min(base_win, len(df) - (len(df) % 2 == 0)))
y_id = savgol_filter(y_raw, window_length=base_win, polyorder=2, mode='interp')
df['rpm_id'] = y_id


# detect steps on raw voltage
thrV = max(0.2, 4.0 * stats.median_abs_deviation(np.diff(df["voltage"].values), scale='normal'))
changes = [0] + [i for i in range(1, len(df))
                 if abs(df["voltage"].iloc[i] - df["voltage"].iloc[i-1]) >= thrV] + [len(df)]

MIN_DV      = 0.5           # min raw Δu [V]
MIN_DWELLN  = int(2.0 / Ts) # min dwell samples

# tiny helpers
def step_model(t, dy, tau):         # 1st order step
    return dy * (1.0 - np.exp(-t / tau))

def compute_mae(y_true, y_pred):    # mean abs error
    return float(np.mean(np.abs(y_true - y_pred)))

def _savgol_len(n, prefer):         # safe odd window
    w = min(prefer, n if (n % 2 == 1) else (n - 1))
    if w < 5: w = 5
    if w % 2 == 0: w += 1
    return w


step_results = []

# quick visual (optional)
fig, (ax1, ax2) = plt.subplots(2, 1, figsize=(12, 9))
ax1.plot(df['time'], df['voltage'], label='u (raw)'); ax1.plot(df['time'], df['u_eff'], label='u_eff')
ax1.set_ylabel('V'); ax1.grid(True); ax1.legend()
ax2.plot(df['time'], y_raw, label='RPM (raw)', color='tab:green')
ax2.set_xlabel('Time (s)'); ax2.set_ylabel('RPM'); ax2.grid(True); ax2.legend()

prev_u = df['voltage'].iloc[0]
for seg in range(len(changes) - 1):
    s = changes[seg]
    e = changes[seg + 1] - 1
    if s > e: continue

    seg_df   = df.iloc[s:e+1].copy()
    t0       = seg_df['time'].iloc[0]
    t_seg    = seg_df['time'] - t0
    u_after  = seg_df['voltage'].iloc[0]
    u_before = prev_u
    du_raw   = u_after - u_before

    if len(seg_df) < MIN_DWELLN: prev_u = u_after; continue
    if abs(du_raw) < MIN_DV:     prev_u = u_after; continue

    raw_seg   = y_raw[s:e+1]
    prefer    = 101 if abs(du_raw) < 1.0 else 51
    win_len   = _savgol_len(len(raw_seg), prefer)
    y         = savgol_filter(raw_seg, window_length=win_len, polyorder=2, mode='interp')

    y0, yss   = float(y[0]), float(y[-1])
    dy_guess  = yss - y0
    if abs(dy_guess) < 5: prev_u = u_after; continue

    tau0 = max(0.05, min(2.0, (seg_df['time'].iloc[-1] - seg_df['time'].iloc[0]) / 3.0))
    p0   = [dy_guess, tau0]
    lb_tau, ub_tau = 0.02, 5.0
    if dy_guess >= 0: lb_dy, ub_dy = 0.3*dy_guess, 1.7*dy_guess
    else:             lb_dy, ub_dy = 1.7*dy_guess, 0.3*dy_guess

    du_eff = deadzone_map([u_after])[0] - deadzone_map([u_before])[0]

    try:
        popt, _ = curve_fit(step_model, t_seg, y - y0,
                            p0=p0, bounds=([lb_dy, lb_tau],[ub_dy, ub_tau]), maxfev=5000)
        dy_fit, tau_fit = float(popt[0]), float(popt[1])
        K_fit = dy_fit / du_eff if abs(du_eff) > 1e-6 else np.nan

        yhat = y0 + step_model(t_seg.values, dy_fit, tau_fit)
        mae  = compute_mae(y, yhat)
        if np.isnan(mae) or mae > 5: prev_u = u_after; continue

        step_results.append({
            'step_num': len(step_results) + 1,
            'start_time': float(t0),
            'start_idx': int(s), 'end_idx': int(e),
            'u_before': float(u_before), 'u_after': float(u_after),
            'delta_u': float(du_raw), 'delta_u_eff': float(du_eff),
            'y0': float(y0), 'y_ss': float(yss),
            'delta_y_fit': float(dy_fit), 'K': float(K_fit), 'tau': float(tau_fit),
            'mae_rpm': float(mae),
            'direction': seg_df['direction'].iloc[0] if 'direction' in seg_df.columns else 'up',
            'window_len': int(win_len)
        })

        # overlay fitted curve (optional)
        tt = np.linspace(0, t_seg.iloc[-1], 200)
        ax2.plot(t0 + tt, y0 + step_model(tt, dy_fit, tau_fit), '--', alpha=0.6)
        ax1.axvline(t0, color='r', ls='--', alpha=0.4)

    except Exception:
        pass

    prev_u = u_after

plt.tight_layout(); plt.show()
assert step_results, "No valid steps found."


valid = [r for r in step_results if not np.isnan(r['K'])]
K_all   = [r['K'] for r in valid]
tau_all = [r['tau'] for r in valid]
overall_K, overall_tau = float(np.mean(K_all)), float(np.mean(tau_all))

def _dir(r):
    return (r['direction'].strip().lower() if isinstance(r['direction'], str)
            else ('up' if r['direction']>0 else 'down'))

up   = [r for r in valid if _dir(r)=='up']
down = [r for r in valid if _dir(r)=='down']

up_K   = float(np.mean([r['K'] for r in up]))   if up else np.nan
up_tau = float(np.mean([r['tau'] for r in up])) if up else np.nan
dn_K   = float(np.mean([r['K'] for r in down])) if down else np.nan
dn_tau = float(np.mean([r['tau'] for r in down])) if down else np.nan

# save per-step table
pd.DataFrame(step_results).to_csv(f'{OUT_DIR}/step_fits.csv', index=False)

# build candidates
candidates = [{'name': f"Step{r['step_num']}", 'K': r['K'], 'tau': r['tau']} for r in valid]
candidates += [{'name':'Overall','K':overall_K,'tau':overall_tau}]
if not np.isnan(up_K):   candidates += [{'name':'Up_avg','K':up_K,'tau':up_tau}]
if not np.isnan(dn_K):   candidates += [{'name':'Down_avg','K':dn_K,'tau':dn_tau}]

print("Candidates:", [c['name'] for c in candidates])


# delay helper
def apply_delay(u, t, Td):
    if Td <= 1e-9: return np.asarray(u, dtype=float).copy()
    t = np.asarray(t, dtype=float); u = np.asarray(u, dtype=float)
    return np.interp(t, t - Td, u, left=u[0], right=u[-1])

# linear plant response y for input u
def sim_full_response(K, tau, u_input, t_input):
    sys = TransferFunction([K], [tau, 1.0])
    _, yout, _ = lsim(sys, U=u_input, T=t_input, X0=0.0)
    return yout

# fast search for (Bpos, Bneg, D) using 3 sims per delay
def fit_signed_bias_delay_fast(K, tau, u_eff, t, y_true, mask,
                               bias_pos_bounds=(-5.0, 5.0), bias_neg_bounds=(-5.0, 5.0),
                               delay_bounds=(0.0, 0.30),
                               coarse_B_n=17, coarse_D_n=19,
                               fine_B_n=9, fine_D_n=9):
    idx = np.where(mask)[0]
    best = {'Bpos':0.0,'Bneg':0.0,'D':0.0,'mae':np.inf}

    Bs_pos = np.linspace(*bias_pos_bounds, coarse_B_n)
    Bs_neg = np.linspace(*bias_neg_bounds, coarse_B_n)
    Ds     = np.linspace(*delay_bounds,    coarse_D_n)

    for D in Ds:
        uD = apply_delay(u_eff, t, D)
        pos = (uD > 0).astype(float); neg = (uD < 0).astype(float)

        y_u   = sim_full_response(K, tau, uD,   t)
        y_pos = sim_full_response(K, tau, pos,  t)
        y_neg = sim_full_response(K, tau, neg,  t)

        yu, yp, yn, yt = y_u[idx], y_pos[idx], y_neg[idx], y_true[idx]
        for Bp in Bs_pos:
            base = yu - Bp*yp
            yhat = base[:,None] + yn[:,None]*Bs_neg[None,:]
            mae_vec = np.mean(np.abs(yt[:,None] - yhat), axis=0)
            j = int(np.argmin(mae_vec)); mae = float(mae_vec[j])
            if mae < best['mae']:
                best.update({'Bpos':float(Bp),'Bneg':float(Bs_neg[j]),'D':float(D),'mae':mae})

    # fine
    Bp0,Bn0,D0 = best['Bpos'], best['Bneg'], best['D']
    Bs_pos_f = np.linspace(Bp0-0.30, Bp0+0.30, fine_B_n)
    Bs_neg_f = np.linspace(Bn0-0.30, Bn0+0.30, fine_B_n)
    Ds_f     = np.linspace(max(delay_bounds[0], D0-0.05),
                           min(delay_bounds[1], D0+0.05), fine_D_n)

    for D in Ds_f:
        uD = apply_delay(u_eff, t, D)
        pos = (uD > 0).astype(float); neg = (uD < 0).astype(float)
        y_u   = sim_full_response(K, tau, uD,   t)
        y_pos = sim_full_response(K, tau, pos,  t)
        y_neg = sim_full_response(K, tau, neg,  t)
        yu, yp, yn, yt = y_u[idx], y_pos[idx], y_neg[idx], y_true[idx]
        for Bp in Bs_pos_f:
            base = yu - Bp*yp
            yhat = base[:,None] + yn[:,None]*Bs_neg_f[None,:]
            mae_vec = np.mean(np.abs(yt[:,None] - yhat), axis=0)
            j = int(np.argmin(mae_vec)); mae = float(mae_vec[j])
            if mae < best['mae']:
                best.update({'Bpos':float(Bp),'Bneg':float(Bs_neg_f[j]),'D':float(D),'mae':mae})

    return best['Bpos'], best['Bneg'], best['D'], best['mae']

# build overlay with (Bpos,Bneg,D)
def overlay_sim_response_signed(K, tau, u_eff, t, Bpos, Bneg, D):
    uD = apply_delay(u_eff, t, D)
    pos = (uD > 0).astype(float); neg = (uD < 0).astype(float)
    y_u   = sim_full_response(K, tau, uD,   t)
    y_pos = sim_full_response(K, tau, pos,  t)
    y_neg = sim_full_response(K, tau, neg,  t)
    return y_u - Bpos*y_pos + Bneg*y_neg

# per-step sim (no bias/delay)
def sim_step_response(t, du_raw, K, tau, y0, u_before=None, u_after=None):
    if (u_before is not None) and (u_after is not None):
        du_eff = deadzone_map([u_after])[0] - deadzone_map([u_before])[0]
    else:
        du_eff = du_raw
    return y0 + (K*du_eff) * (1.0 - np.exp(-t / max(tau, 1e-9)))


t_stair_start = 20.0
mask_full = df['time'].values >= t_stair_start
y_true_full = df['rpm_id'].values
u_eff_full  = df['u_eff'].values
t_full      = df['time'].values

scores = []
print("Cross-validation (signed bias + delay):")
for cand in candidates:
    name, K, tau = cand['name'], float(cand['K']), float(cand['tau'])
    Bp, Bn, D, mae_overall = fit_signed_bias_delay_fast(
        K, tau, u_eff_full, t_full, y_true_full, mask_full,
        bias_pos_bounds=(-5,5), bias_neg_bounds=(-5,5),
        delay_bounds=(0.0,0.30), coarse_B_n=17, coarse_D_n=19, fine_B_n=9, fine_D_n=9
    )

    # step-wise CV (no bias/delay)
    maes = []
    for r in step_results:
        if name.startswith('Step') and int(name[4:]) == r['step_num']: continue
        s,e = r['start_idx'], r['end_idx']
        t_seg = df['time'].iloc[s:e+1].values - df['time'].iloc[s]
        y_true = df['rpm_id'].iloc[s:e+1].values
        y0 = r['y0']
        y_sim = sim_step_response(t_seg, r['delta_u'], K, tau, y0, r['u_before'], r['u_after'])
        maes.append(compute_mae(y_true, y_sim))

    avg_steps = float(np.mean(maes)) if maes else np.nan
    combined  = 0.5*mae_overall + 0.5*avg_steps if not np.isnan(avg_steps) else mae_overall

    scores.append({'Candidate':name,
                   'Overall MAE (RPM)':mae_overall,
                   'Avg Other Steps MAE (RPM)':avg_steps,
                   'N Steps':len(maes),
                   'Combined MAE (RPM)':combined,
                   'U_bias_pos (V)':Bp, 'U_bias_neg (V)':Bn, 'T_delay (s)':D})

scores_df = pd.DataFrame(scores).round(2)
scores_df.to_csv(f'{OUT_DIR}/cross_val_scores.csv', index=False)
scores_df


# overlay of top 3
top = scores_df.nsmallest(3, 'Combined MAE (RPM)')

fig, ax = plt.subplots(figsize=(14,6))
ax.plot(df['time'], y_raw, 'k-', alpha=0.6, label='Raw RPM', lw=1.5)
ax.axvline(t_stair_start, color='gray', ls=':', alpha=0.6, label='Staircase Start')

colors = ['r','b','g']
for i, (_, row) in enumerate(top.iterrows()):
    name = row['Candidate']
    idx  = [c['name'] for c in candidates].index(name)
    K    = candidates[idx]['K']; tau = candidates[idx]['tau']
    Bp   = float(row['U_bias_pos (V)']); Bn = float(row['U_bias_neg (V)']); D = float(row['T_delay (s)'])
    y_sim = overlay_sim_response_signed(K, tau, df['u_eff'].values, df['time'].values, Bp, Bn, D)
    ax.plot(df['time'], y_sim, colors[i], lw=2,
            label=f"{name}: K={K:.1f}, τ={tau:.2f}s, B+={Bp:+.2f}V, B-={Bn:+.2f}V, D={int(D*1e3)}ms "
                  f"(Overall {row['Overall MAE (RPM)']:.1f})")
ax.set_xlabel('Time (s)'); ax.set_ylabel('RPM'); ax.set_xlim(15, df['time'].max())
ax.set_title('Raw vs Top Candidate Sims (Dead-Zone + Signed Bias + Delay)')
ax.grid(True, alpha=0.3); ax.legend()
plt.tight_layout(); plt.savefig(f'{OUT_DIR}/full_overlays_top3.png', dpi=150); plt.show()

# bar chart
fig, ax = plt.subplots(figsize=(12,6))
ax.barh(scores_df['Candidate'], scores_df['Combined MAE (RPM)'], alpha=0.85)
best_idx = scores_df['Combined MAE (RPM)'].idxmin()
ax.axvline(scores_df['Combined MAE (RPM)'].min(), color='r', ls='--',
           label=f"Best: {scores_df.loc[best_idx,'Candidate']} ({scores_df['Combined MAE (RPM)'].min():.1f} RPM)")
ax.set_xlabel('Combined MAE (RPM)'); ax.set_title('Cross-Validation (lower is better)')
ax.grid(True, alpha=0.3); ax.legend()
plt.tight_layout(); plt.savefig(f'{OUT_DIR}/combined_scores_bar.png', dpi=150); plt.show()

# heatmap (candidate vs step residuals without bias/delay)
res_matrix = np.full((len(candidates), len(step_results)), np.nan)
for ci, cand in enumerate(candidates):
    for si, r in enumerate(step_results):
        s,e = r['start_idx'], r['end_idx']
        t_seg = df['time'].iloc[s:e+1].values - df['time'].iloc[s]
        y_true = df['rpm_id'].iloc[s:e+1].values
        y0 = r['y0']
        y_sim = sim_step_response(t_seg, r['delta_u'], cand['K'], cand['tau'], y0,
                                  r['u_before'], r['u_after'])
        res_matrix[ci, si] = np.mean(np.abs(y_true - y_sim))

fig, ax = plt.subplots(figsize=(10,8))
im = ax.imshow(res_matrix, cmap='Reds', aspect='auto')
ax.set_xticks(range(len(step_results)))
ax.set_xticklabels([f"S{r['step_num']}" for r in step_results])
ax.set_yticks(range(len(candidates)))
ax.set_yticklabels([c['name'] for c in candidates])
ax.set_xlabel('Steps'); ax.set_ylabel('Candidates'); ax.set_title('Mean |Residual| [RPM]')
plt.colorbar(im, ax=ax, label='Mean |Residual| RPM')
plt.tight_layout(); plt.savefig(f'{OUT_DIR}/residuals_heatmap.png', dpi=150); plt.show()


best_row  = scores_df.loc[scores_df['Combined MAE (RPM)'].idxmin()]
best_name = best_row['Candidate']
cidx      = [c['name'] for c in candidates].index(best_name)
best_K, best_tau = candidates[cidx]['K'], candidates[cidx]['tau']
best_Bp = float(best_row['U_bias_pos (V)'])
best_Bn = float(best_row['U_bias_neg (V)'])
best_D  = float(best_row['T_delay (s)'])

print("Final plant:")
print(f"  Dead-zone: +{VDB_POS:.2f} V / -{VDB_NEG:.2f} V (alpha={SOFT_ALPHA:.2f})")
print(f"  Signed bias: B+={best_Bp:+.3f} V, B-={best_Bn:+.3f} V")
print(f"  Delay: {best_D*1e3:.0f} ms")
print(f"  G(s) = {best_K:.3f} / ({best_tau:.3f} s + 1)")

# export params
pd.DataFrame({
    'Best_Candidate':[best_name],
    'Best_K':[best_K], 'Best_tau':[best_tau],
    'U_bias_pos_V':[best_Bp], 'U_bias_neg_V':[best_Bn], 'T_delay_s':[best_D],
    'DeadZone_PosV':[VDB_POS], 'DeadZone_NegV':[VDB_NEG], 'SoftAlpha':[SOFT_ALPHA],
    'TF_str':[f"{best_K:.3f} / ({best_tau:.3f} s + 1)  with  B+={best_Bp:+.3f} V, B-={best_Bn:+.3f} V, D={best_D:.3f} s"]
}).to_csv(f'{OUT_DIR}/recommended_tf_with_bias_delay.csv', index=False)

# residuals using best signed bias + delay
y_sim_best = overlay_sim_response_signed(best_K, best_tau, df['u_eff'].values, df['time'].values,
                                         best_Bp, best_Bn, best_D)
resids = y_raw - y_sim_best
mask = df['time'].values >= 20.0
mad = stats.median_abs_deviation(resids[mask])

fig, ax = plt.subplots(figsize=(12,4))
ax.plot(df['time'], resids, color='purple', alpha=0.85, label='Residuals (raw - sim)')
ax.axhline(0, color='k', lw=1)
ax.fill_between(df['time'], -2*mad, 2*mad, color='gray', alpha=0.2, label=f'±2 MAD ({mad:.1f} RPM)')
ax.set_xlabel('Time (s)'); ax.set_ylabel('Residuals [RPM]')
ax.set_title(f'Residuals: Best TF + B+ {best_Bp:+.2f} V / B- {best_Bn:+.2f} V + Delay {int(best_D*1e3)} ms')
ax.grid(True, alpha=0.3); ax.legend(); ax.set_xlim(15, df['time'].max())
plt.tight_layout(); plt.savefig(f'{OUT_DIR}/final_residuals.png', dpi=150); plt.show()
